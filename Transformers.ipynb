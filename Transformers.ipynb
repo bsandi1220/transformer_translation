{
 "cells": [
  {
   "cell_type": "code",
   "execution_count": 1,
   "metadata": {},
   "outputs": [
    {
     "name": "stdout",
     "output_type": "stream",
     "text": [
      "\u001b[31mERROR: tensorflow 2.0.0rc0 has requirement tb-nightly<1.15.0a20190807,>=1.15.0a20190806, but you'll have tb-nightly 2.2.0a20200203 which is incompatible.\u001b[0m\n",
      "\u001b[31mERROR: tb-nightly 2.2.0a20200203 has requirement grpcio>=1.24.3, but you'll have grpcio 1.23.0 which is incompatible.\u001b[0m\n",
      "\u001b[33mWARNING: You are using pip version 19.3.1; however, version 20.0.2 is available.\n",
      "You should consider upgrading via the 'pip install --upgrade pip' command.\u001b[0m\n"
     ]
    }
   ],
   "source": [
    "from __future__ import absolute_import, division, print_function, unicode_literals\n",
    "\n",
    "try:\n",
    "    !pip install -q tf-nightly\n",
    "except Exception:\n",
    "    pass\n",
    "\n",
    "\n",
    "import tensorflow_datasets as tfds\n",
    "import tensorflow as tf\n",
    "\n",
    "import time\n",
    "import numpy as np\n",
    "import matplotlib.pyplot as plt"
   ]
  },
  {
   "cell_type": "code",
   "execution_count": 3,
   "metadata": {},
   "outputs": [
    {
     "name": "stdout",
     "output_type": "stream",
     "text": [
      "\u001b[1mDownloading and preparing dataset ted_hrlr_translate (124.94 MiB) to /Users/bsandi/tensorflow_datasets/ted_hrlr_translate/pt_to_en/0.0.1...\u001b[0m\n"
     ]
    },
    {
     "data": {
      "application/vnd.jupyter.widget-view+json": {
       "model_id": "f4b33e27a60343e3969984f85c2a3995",
       "version_major": 2,
       "version_minor": 0
      },
      "text/plain": [
       "HBox(children=(IntProgress(value=1, bar_style='info', description='Dl Completed...', max=1, style=ProgressStyl…"
      ]
     },
     "metadata": {},
     "output_type": "display_data"
    },
    {
     "data": {
      "application/vnd.jupyter.widget-view+json": {
       "model_id": "0b85606955ce45de8e5874cdabd8c651",
       "version_major": 2,
       "version_minor": 0
      },
      "text/plain": [
       "HBox(children=(IntProgress(value=1, bar_style='info', description='Dl Size...', max=1, style=ProgressStyle(des…"
      ]
     },
     "metadata": {},
     "output_type": "display_data"
    },
    {
     "data": {
      "application/vnd.jupyter.widget-view+json": {
       "model_id": "3bf5807b8dbb4c65adbd7efe7c26bfb5",
       "version_major": 2,
       "version_minor": 0
      },
      "text/plain": [
       "HBox(children=(IntProgress(value=1, bar_style='info', description='Extraction completed...', max=1, style=Prog…"
      ]
     },
     "metadata": {},
     "output_type": "display_data"
    },
    {
     "name": "stdout",
     "output_type": "stream",
     "text": [
      "\n",
      "\n",
      "\n",
      "\n",
      "\n",
      "\n"
     ]
    },
    {
     "data": {
      "application/vnd.jupyter.widget-view+json": {
       "model_id": "4d37a3e0e6a04e51b2663063c4643336",
       "version_major": 2,
       "version_minor": 0
      },
      "text/plain": [
       "HBox(children=(IntProgress(value=1, bar_style='info', max=1), HTML(value='')))"
      ]
     },
     "metadata": {},
     "output_type": "display_data"
    },
    {
     "name": "stdout",
     "output_type": "stream",
     "text": [
      "\r"
     ]
    },
    {
     "data": {
      "application/vnd.jupyter.widget-view+json": {
       "model_id": "271857b2971a4988bcda32b87b5cecc4",
       "version_major": 2,
       "version_minor": 0
      },
      "text/plain": [
       "HBox(children=(IntProgress(value=0, description='Shuffling...', max=1, style=ProgressStyle(description_width='…"
      ]
     },
     "metadata": {},
     "output_type": "display_data"
    },
    {
     "name": "stdout",
     "output_type": "stream",
     "text": [
      "WARNING:tensorflow:From /Users/bsandi/anaconda3/lib/python3.7/site-packages/tensorflow_datasets/core/file_format_adapter.py:209: tf_record_iterator (from tensorflow.python.lib.io.tf_record) is deprecated and will be removed in a future version.\n",
      "Instructions for updating:\n",
      "Use eager execution and: \n",
      "`tf.data.TFRecordDataset(path)`\n"
     ]
    },
    {
     "name": "stderr",
     "output_type": "stream",
     "text": [
      "WARNING:tensorflow:From /Users/bsandi/anaconda3/lib/python3.7/site-packages/tensorflow_datasets/core/file_format_adapter.py:209: tf_record_iterator (from tensorflow.python.lib.io.tf_record) is deprecated and will be removed in a future version.\n",
      "Instructions for updating:\n",
      "Use eager execution and: \n",
      "`tf.data.TFRecordDataset(path)`\n"
     ]
    },
    {
     "data": {
      "application/vnd.jupyter.widget-view+json": {
       "model_id": "b95ec5c9a04a4c3e874bebee84872733",
       "version_major": 2,
       "version_minor": 0
      },
      "text/plain": [
       "HBox(children=(IntProgress(value=1, bar_style='info', description='Reading...', max=1, style=ProgressStyle(des…"
      ]
     },
     "metadata": {},
     "output_type": "display_data"
    },
    {
     "data": {
      "application/vnd.jupyter.widget-view+json": {
       "model_id": "924958f8c7824902ab807b4a31e08897",
       "version_major": 2,
       "version_minor": 0
      },
      "text/plain": [
       "HBox(children=(IntProgress(value=0, description='Writing...', max=51785, style=ProgressStyle(description_width…"
      ]
     },
     "metadata": {},
     "output_type": "display_data"
    },
    {
     "name": "stdout",
     "output_type": "stream",
     "text": [
      "\r"
     ]
    },
    {
     "data": {
      "application/vnd.jupyter.widget-view+json": {
       "model_id": "2be25b50ebca4c888999d97fb2bef1bc",
       "version_major": 2,
       "version_minor": 0
      },
      "text/plain": [
       "HBox(children=(IntProgress(value=1, bar_style='info', max=1), HTML(value='')))"
      ]
     },
     "metadata": {},
     "output_type": "display_data"
    },
    {
     "name": "stdout",
     "output_type": "stream",
     "text": [
      "\r"
     ]
    },
    {
     "data": {
      "application/vnd.jupyter.widget-view+json": {
       "model_id": "48697d1f02974f8898d1aa14633e8694",
       "version_major": 2,
       "version_minor": 0
      },
      "text/plain": [
       "HBox(children=(IntProgress(value=0, description='Shuffling...', max=1, style=ProgressStyle(description_width='…"
      ]
     },
     "metadata": {},
     "output_type": "display_data"
    },
    {
     "data": {
      "application/vnd.jupyter.widget-view+json": {
       "model_id": "626cec181875410ca2c9ec775a5bad73",
       "version_major": 2,
       "version_minor": 0
      },
      "text/plain": [
       "HBox(children=(IntProgress(value=1, bar_style='info', description='Reading...', max=1, style=ProgressStyle(des…"
      ]
     },
     "metadata": {},
     "output_type": "display_data"
    },
    {
     "data": {
      "application/vnd.jupyter.widget-view+json": {
       "model_id": "93cc3fe9b2ca4ad89ca56764cd4005fb",
       "version_major": 2,
       "version_minor": 0
      },
      "text/plain": [
       "HBox(children=(IntProgress(value=0, description='Writing...', max=1193, style=ProgressStyle(description_width=…"
      ]
     },
     "metadata": {},
     "output_type": "display_data"
    },
    {
     "name": "stdout",
     "output_type": "stream",
     "text": [
      "\r"
     ]
    },
    {
     "data": {
      "application/vnd.jupyter.widget-view+json": {
       "model_id": "50da9e2b24c04282ba7e4a3c9d7627fa",
       "version_major": 2,
       "version_minor": 0
      },
      "text/plain": [
       "HBox(children=(IntProgress(value=1, bar_style='info', max=1), HTML(value='')))"
      ]
     },
     "metadata": {},
     "output_type": "display_data"
    },
    {
     "name": "stdout",
     "output_type": "stream",
     "text": [
      "\r"
     ]
    },
    {
     "data": {
      "application/vnd.jupyter.widget-view+json": {
       "model_id": "5b644ec3dcd04d4aac1c4b5ebf9d3c8e",
       "version_major": 2,
       "version_minor": 0
      },
      "text/plain": [
       "HBox(children=(IntProgress(value=0, description='Shuffling...', max=1, style=ProgressStyle(description_width='…"
      ]
     },
     "metadata": {},
     "output_type": "display_data"
    },
    {
     "data": {
      "application/vnd.jupyter.widget-view+json": {
       "model_id": "b44f6a84e6cd482cb8df66892bd6f918",
       "version_major": 2,
       "version_minor": 0
      },
      "text/plain": [
       "HBox(children=(IntProgress(value=1, bar_style='info', description='Reading...', max=1, style=ProgressStyle(des…"
      ]
     },
     "metadata": {},
     "output_type": "display_data"
    },
    {
     "data": {
      "application/vnd.jupyter.widget-view+json": {
       "model_id": "63b5b58a3d6a4ae78840ce194db765e8",
       "version_major": 2,
       "version_minor": 0
      },
      "text/plain": [
       "HBox(children=(IntProgress(value=0, description='Writing...', max=1803, style=ProgressStyle(description_width=…"
      ]
     },
     "metadata": {},
     "output_type": "display_data"
    },
    {
     "name": "stderr",
     "output_type": "stream",
     "text": [
      "WARNING:absl:Warning: Setting shuffle_files=True because split=TRAIN and shuffle_files=None. This behavior will be deprecated on 2019-08-06, at which point shuffle_files=False will be the default for all splits.\n"
     ]
    },
    {
     "name": "stdout",
     "output_type": "stream",
     "text": [
      "\u001b[1mDataset ted_hrlr_translate downloaded and prepared to /Users/bsandi/tensorflow_datasets/ted_hrlr_translate/pt_to_en/0.0.1. Subsequent calls will reuse this data.\u001b[0m\n"
     ]
    }
   ],
   "source": [
    "# Loading train and validation data \n",
    "\n",
    "examples, metadata = tfds.load('ted_hrlr_translate/pt_to_en', with_info=True,\n",
    "                               as_supervised=True)\n",
    "train_examples, val_examples = examples['train'], examples['validation']"
   ]
  },
  {
   "cell_type": "code",
   "execution_count": 11,
   "metadata": {},
   "outputs": [
    {
     "name": "stdout",
     "output_type": "stream",
     "text": [
      "b\"astronomers now believe that every star in the galaxy has a planet , and they speculate that up to one fifth of them have an earth-like planet that might be able to harbor life , but we have n't seen any of them .\"\n"
     ]
    }
   ],
   "source": [
    "# Example of a sentence in English \n",
    "for pt, en in train_examples:\n",
    "    print(en.numpy())\n",
    "    break"
   ]
  },
  {
   "cell_type": "code",
   "execution_count": 41,
   "metadata": {},
   "outputs": [
    {
     "name": "stdout",
     "output_type": "stream",
     "text": [
      "b'os astr\\xc3\\xb3nomos acreditam que cada estrela da gal\\xc3\\xa1xia tem um planeta , e especulam que at\\xc3\\xa9 um quinto deles tem um planeta do tipo da terra que poder\\xc3\\xa1 ter vida , mas ainda n\\xc3\\xa3o vimos nenhum deles .'\n"
     ]
    }
   ],
   "source": [
    "# Example of a sentence in Portuguese \n",
    "for pt, en in train_examples:\n",
    "    lang1 = pt\n",
    "    print(pt.numpy())\n",
    "    break"
   ]
  },
  {
   "cell_type": "code",
   "execution_count": 7,
   "metadata": {},
   "outputs": [],
   "source": [
    "# Creating a vocabulary from the subwords of the english and portuguese corpus \n",
    "\n",
    "tokenizer_en = tfds.features.text.SubwordTextEncoder.build_from_corpus(\n",
    "    (en.numpy() for pt, en in train_examples), target_vocab_size=2**13)\n",
    "\n",
    "tokenizer_pt = tfds.features.text.SubwordTextEncoder.build_from_corpus(\n",
    "    (pt.numpy() for pt, en in train_examples), target_vocab_size=2**13)"
   ]
  },
  {
   "cell_type": "code",
   "execution_count": 19,
   "metadata": {},
   "outputs": [
    {
     "data": {
      "text/plain": [
       "[' , ', ' .', 'the_', 'and_', 'to_', 'of_', 'a_', \" '\", 's_', 'that_']"
      ]
     },
     "execution_count": 19,
     "metadata": {},
     "output_type": "execute_result"
    }
   ],
   "source": [
    "tokenizer_en.subwords[0:10]"
   ]
  },
  {
   "cell_type": "code",
   "execution_count": 18,
   "metadata": {},
   "outputs": [
    {
     "data": {
      "text/plain": [
       "8214"
      ]
     },
     "execution_count": 18,
     "metadata": {},
     "output_type": "execute_result"
    }
   ],
   "source": [
    "tokenizer_pt.vocab_size"
   ]
  },
  {
   "cell_type": "code",
   "execution_count": 29,
   "metadata": {},
   "outputs": [
    {
     "name": "stdout",
     "output_type": "stream",
     "text": [
      "Tokenized string is [7915, 1248, 7946, 7194, 13, 2799]\n",
      "The original string: Transformer is awesome\n"
     ]
    }
   ],
   "source": [
    "sample_string = 'Transformer is awesome'\n",
    "\n",
    "tokenized_string = tokenizer_en.encode(sample_string)\n",
    "print ('Tokenized string is {}'.format(tokenized_string))\n",
    "\n",
    "original_string = tokenizer_en.decode(tokenized_string)\n",
    "print ('The original string: {}'.format(original_string))\n",
    "\n",
    "assert original_string == sample_string"
   ]
  },
  {
   "cell_type": "code",
   "execution_count": 30,
   "metadata": {},
   "outputs": [
    {
     "name": "stdout",
     "output_type": "stream",
     "text": [
      "7915 ----> T\n",
      "1248 ----> ran\n",
      "7946 ----> s\n",
      "7194 ----> former \n",
      "13 ----> is \n",
      "2799 ----> awesome\n"
     ]
    }
   ],
   "source": [
    "for ts in tokenized_string:\n",
    "    print ('{} ----> {}'.format(ts, tokenizer_en.decode([ts])))"
   ]
  },
  {
   "cell_type": "code",
   "execution_count": 34,
   "metadata": {},
   "outputs": [
    {
     "data": {
      "text/plain": [
       "['acqu',\n",
       " 'acknowledg',\n",
       " 'accurate_',\n",
       " 'accelerati',\n",
       " '90s',\n",
       " '2015',\n",
       " '2004',\n",
       " '1980',\n",
       " \" ) '' '' \"]"
      ]
     },
     "execution_count": 34,
     "metadata": {},
     "output_type": "execute_result"
    }
   ],
   "source": [
    "tokenizer_en.subwords[-9:]"
   ]
  },
  {
   "cell_type": "code",
   "execution_count": 35,
   "metadata": {},
   "outputs": [],
   "source": [
    "BUFFER_SIZE = 20000\n",
    "BATCH_SIZE = 64"
   ]
  },
  {
   "cell_type": "code",
   "execution_count": 44,
   "metadata": {},
   "outputs": [],
   "source": [
    "# Add a start and end token to the input and target\n",
    "\n",
    "def encode(lang1, lang2):\n",
    "    lang1 = [tokenizer_pt.vocab_size] + tokenizer_pt.encode(\n",
    "        lang1.numpy()) + [tokenizer_pt.vocab_size+1]\n",
    "\n",
    "    lang2 = [tokenizer_en.vocab_size] + tokenizer_en.encode(\n",
    "        lang2.numpy()) + [tokenizer_en.vocab_size+1]\n",
    "  \n",
    "    return lang1, lang2"
   ]
  },
  {
   "cell_type": "code",
   "execution_count": 45,
   "metadata": {},
   "outputs": [],
   "source": [
    "# tf.py_funtion to wrap the encode fuction, this way it will be able to be executed with python functions \n",
    "\n",
    "def tf_encode(pt, en):\n",
    "    result_pt, result_en = tf.py_function(encode, [pt, en], [tf.int64, tf.int64])\n",
    "    result_pt.set_shape([None])\n",
    "    result_en.set_shape([None])\n",
    "\n",
    "    return result_pt, result_en"
   ]
  },
  {
   "cell_type": "code",
   "execution_count": 46,
   "metadata": {},
   "outputs": [],
   "source": [
    "# Filtering sentences with more than MAX_LENGTH size \n",
    "\n",
    "MAX_LENGTH = 40\n",
    "\n",
    "def filter_max_length(x, y, max_length=MAX_LENGTH):\n",
    "    return tf.logical_and(tf.size(x) <= max_length,\n",
    "                        tf.size(y) <= max_length)"
   ]
  },
  {
   "cell_type": "code",
   "execution_count": 49,
   "metadata": {},
   "outputs": [],
   "source": [
    "# Tockenizing sentences and adding start and end tocken  \n",
    "train_dataset = train_examples.map(tf_encode)\n",
    "# Filtering longer sentences \n",
    "train_dataset = train_dataset.filter(filter_max_length)\n",
    "# cache the dataset to memory to get a speedup while reading from it.\n",
    "train_dataset = train_dataset.cache()\n",
    "# Shuffles data limiting to the BUFFER_SIZE and pads the resutl into BATCH_SIZE batches \n",
    "train_dataset = train_dataset.shuffle(BUFFER_SIZE).padded_batch(BATCH_SIZE)\n",
    "# Prefetching overlaps the preprocessing and model execution of a training step, reading while training \n",
    "train_dataset = train_dataset.prefetch(tf.data.experimental.AUTOTUNE)\n",
    "#\n",
    "\n",
    "val_dataset = val_examples.map(tf_encode)\n",
    "val_dataset = val_dataset.filter(filter_max_length).padded_batch(BATCH_SIZE)"
   ]
  },
  {
   "cell_type": "code",
   "execution_count": 50,
   "metadata": {},
   "outputs": [
    {
     "data": {
      "text/plain": [
       "(TensorShape([None, None]), TensorShape([None, None]))"
      ]
     },
     "execution_count": 50,
     "metadata": {},
     "output_type": "execute_result"
    }
   ],
   "source": [
    "train_dataset.output_shapes"
   ]
  },
  {
   "cell_type": "code",
   "execution_count": 52,
   "metadata": {},
   "outputs": [
    {
     "data": {
      "text/plain": [
       "(<tf.Tensor: shape=(64, 40), dtype=int64, numpy=\n",
       " array([[8214, 1259,    5, ...,    0,    0,    0],\n",
       "        [8214,  299,   13, ...,    0,    0,    0],\n",
       "        [8214,   59,    8, ...,    0,    0,    0],\n",
       "        ...,\n",
       "        [8214,   95,    3, ...,    0,    0,    0],\n",
       "        [8214, 5157,    1, ...,    0,    0,    0],\n",
       "        [8214, 4479, 7990, ...,    0,    0,    0]])>,\n",
       " <tf.Tensor: shape=(64, 40), dtype=int64, numpy=\n",
       " array([[8087,   18,   12, ...,    0,    0,    0],\n",
       "        [8087,  634,   30, ...,    0,    0,    0],\n",
       "        [8087,   16,   13, ...,    0,    0,    0],\n",
       "        ...,\n",
       "        [8087,   12,   20, ...,    0,    0,    0],\n",
       "        [8087,   17, 4981, ...,    0,    0,    0],\n",
       "        [8087,   12, 5453, ...,    0,    0,    0]])>)"
      ]
     },
     "execution_count": 52,
     "metadata": {},
     "output_type": "execute_result"
    }
   ],
   "source": [
    "pt_batch, en_batch = next(iter(val_dataset))\n",
    "pt_batch, en_batch"
   ]
  },
  {
   "cell_type": "code",
   "execution_count": 56,
   "metadata": {},
   "outputs": [
    {
     "data": {
      "text/plain": [
       "<tf.Tensor: shape=(40,), dtype=int64, numpy=\n",
       "array([8214, 1259,    5,   63, 5284,   50,  277,    2, 8215,    0,    0,\n",
       "          0,    0,    0,    0,    0,    0,    0,    0,    0,    0,    0,\n",
       "          0,    0,    0,    0,    0,    0,    0,    0,    0,    0,    0,\n",
       "          0,    0,    0,    0,    0,    0,    0])>"
      ]
     },
     "execution_count": 56,
     "metadata": {},
     "output_type": "execute_result"
    }
   ],
   "source": [
    "(pt_batch[0])"
   ]
  },
  {
   "cell_type": "markdown",
   "metadata": {},
   "source": [
    "## Positional Encoding"
   ]
  },
  {
   "cell_type": "code",
   "execution_count": 57,
   "metadata": {},
   "outputs": [],
   "source": [
    "num_positions = 50\n",
    "depth = 512\n",
    "min_rate = 1/10000\n",
    "\n",
    "assert depth%2 == 0, \"Depth must be even.\"\n",
    "angle_rate_exponents = np.linspace(0,1,depth//2)\n",
    "angle_rates = min_rate**(angle_rate_exponents)\n"
   ]
  },
  {
   "cell_type": "code",
   "execution_count": 62,
   "metadata": {},
   "outputs": [
    {
     "data": {
      "text/plain": [
       "Text(0, 0.5, 'Angle rate [rads/step]')"
      ]
     },
     "execution_count": 62,
     "metadata": {},
     "output_type": "execute_result"
    },
    {
     "data": {
      "image/png": "[encoded data removed]",
      "text/plain": [
       "<Figure size 432x288 with 1 Axes>"
      ]
     },
     "metadata": {
      "needs_background": "light"
     },
     "output_type": "display_data"
    }
   ],
   "source": [
    "plt.semilogy(angle_rates)\n",
    "plt.xlabel('Depth')\n",
    "plt.ylabel('Angle rate [rads/step]')"
   ]
  },
  {
   "cell_type": "code",
   "execution_count": 63,
   "metadata": {},
   "outputs": [],
   "source": [
    "positions = np.arange(num_positions) \n",
    "angle_rads = (positions[:, np.newaxis]) * angle_rates[np.newaxis, :]"
   ]
  },
  {
   "cell_type": "code",
   "execution_count": 73,
   "metadata": {},
   "outputs": [
    {
     "data": {
      "text/plain": [
       "(256,)"
      ]
     },
     "execution_count": 73,
     "metadata": {},
     "output_type": "execute_result"
    }
   ],
   "source": [
    "angle_rads[0].shape"
   ]
  },
  {
   "cell_type": "code",
   "execution_count": 89,
   "metadata": {},
   "outputs": [
    {
     "data": {
      "text/plain": [
       "array([1.00000000e+00, 9.64525526e-01, 9.30309490e-01, 8.97307249e-01,\n",
       "       8.65475746e-01, 8.34773449e-01, 8.05160300e-01, 7.76597661e-01,\n",
       "       7.49048268e-01, 7.22476174e-01, 6.96846712e-01, 6.72126441e-01,\n",
       "       6.48283108e-01, 6.25285606e-01, 6.03103928e-01, 5.81709133e-01,\n",
       "       5.61073307e-01, 5.41169527e-01, 5.21971822e-01, 5.03455146e-01,\n",
       "       4.85595339e-01, 4.68369100e-01, 4.51753952e-01, 4.35728218e-01,\n",
       "       4.20270989e-01, 4.05362096e-01, 3.90982089e-01, 3.77112205e-01,\n",
       "       3.63734348e-01, 3.50831063e-01, 3.38385515e-01, 3.26381467e-01,\n",
       "       3.14803256e-01, 3.03635776e-01, 2.92864456e-01, 2.82475244e-01,\n",
       "       2.72454583e-01, 2.62789400e-01, 2.53467084e-01, 2.44475472e-01,\n",
       "       2.35802834e-01, 2.27437852e-01, 2.19369614e-01, 2.11587592e-01,\n",
       "       2.04081633e-01, 1.96841945e-01, 1.89859080e-01, 1.83123929e-01,\n",
       "       1.76627704e-01, 1.70361929e-01, 1.64318429e-01, 1.58489319e-01,\n",
       "       1.52866994e-01, 1.47444118e-01, 1.42213615e-01, 1.37168662e-01,\n",
       "       1.32302676e-01, 1.27609308e-01, 1.23082435e-01, 1.18716150e-01,\n",
       "       1.14504757e-01, 1.10442761e-01, 1.06524862e-01, 1.02745949e-01,\n",
       "       9.91010900e-02, 9.55855309e-02, 9.21946845e-02, 8.89241265e-02,\n",
       "       8.57695899e-02, 8.27269587e-02, 7.97922634e-02, 7.69616748e-02,\n",
       "       7.42314998e-02, 7.15981764e-02, 6.90582687e-02, 6.66084629e-02,\n",
       "       6.42455627e-02, 6.19664851e-02, 5.97682566e-02, 5.76480092e-02,\n",
       "       5.56029763e-02, 5.36304900e-02, 5.17279765e-02, 4.98929537e-02,\n",
       "       4.81230274e-02, 4.64158883e-02, 4.47693091e-02, 4.31811414e-02,\n",
       "       4.16493131e-02, 4.01718256e-02, 3.87467512e-02, 3.73722306e-02,\n",
       "       3.60464703e-02, 3.47677407e-02, 3.35343734e-02, 3.23447591e-02,\n",
       "       3.11973458e-02, 3.00906364e-02, 2.90231869e-02, 2.79936046e-02,\n",
       "       2.70005462e-02, 2.60427160e-02, 2.51188643e-02, 2.42277858e-02,\n",
       "       2.33683178e-02, 2.25393390e-02, 2.17397678e-02, 2.09685610e-02,\n",
       "       2.02247123e-02, 1.95072513e-02, 1.88152418e-02, 1.81477810e-02,\n",
       "       1.75039980e-02, 1.68830529e-02, 1.62841354e-02, 1.57064643e-02,\n",
       "       1.51492857e-02, 1.46118728e-02, 1.40935243e-02, 1.35935639e-02,\n",
       "       1.31113394e-02, 1.26462215e-02, 1.21976034e-02, 1.17648999e-02,\n",
       "       1.13475462e-02, 1.09449980e-02, 1.05567299e-02, 1.01822355e-02,\n",
       "       9.82102604e-03, 9.47263031e-03, 9.13659373e-03, 8.81247787e-03,\n",
       "       8.49985985e-03, 8.19833179e-03, 7.90750027e-03, 7.62698586e-03,\n",
       "       7.35642254e-03, 7.09545732e-03, 6.84374970e-03, 6.60097128e-03,\n",
       "       6.36680529e-03, 6.14094622e-03, 5.92309938e-03, 5.71298054e-03,\n",
       "       5.51031556e-03, 5.31484001e-03, 5.12629886e-03, 4.94444610e-03,\n",
       "       4.76904447e-03, 4.59986513e-03, 4.43668733e-03, 4.27929818e-03,\n",
       "       4.12749233e-03, 3.98107171e-03, 3.83984528e-03, 3.70362879e-03,\n",
       "       3.57224450e-03, 3.44552101e-03, 3.32329296e-03, 3.20540089e-03,\n",
       "       3.09169098e-03, 2.98201486e-03, 2.87622945e-03, 2.77419673e-03,\n",
       "       2.67578356e-03, 2.58086154e-03, 2.48930683e-03, 2.40099998e-03,\n",
       "       2.31582577e-03, 2.23367307e-03, 2.15443469e-03, 2.07800725e-03,\n",
       "       2.00429104e-03, 1.93318987e-03, 1.86461097e-03, 1.79846488e-03,\n",
       "       1.73466528e-03, 1.67312894e-03, 1.61377557e-03, 1.55652773e-03,\n",
       "       1.50131073e-03, 1.44805252e-03, 1.39668362e-03, 1.34713700e-03,\n",
       "       1.29934802e-03, 1.25325434e-03, 1.20879580e-03, 1.16591440e-03,\n",
       "       1.12455420e-03, 1.08466123e-03, 1.04618344e-03, 1.00907064e-03,\n",
       "       9.73274386e-04, 9.38747989e-04, 9.05446397e-04, 8.73326162e-04,\n",
       "       8.42345376e-04, 8.12463616e-04, 7.83641897e-04, 7.55842612e-04,\n",
       "       7.29029493e-04, 7.03167555e-04, 6.78223055e-04, 6.54163449e-04,\n",
       "       6.30957344e-04, 6.08574464e-04, 5.86985605e-04, 5.66162599e-04,\n",
       "       5.46078279e-04, 5.26706439e-04, 5.08021805e-04, 4.89999998e-04,\n",
       "       4.72617506e-04, 4.55851648e-04, 4.39680551e-04, 4.24083114e-04,\n",
       "       4.09038989e-04, 3.94528545e-04, 3.80532853e-04, 3.67033650e-04,\n",
       "       3.54013324e-04, 3.41454887e-04, 3.29341955e-04, 3.17658722e-04,\n",
       "       3.06389946e-04, 2.95520924e-04, 2.85037474e-04, 2.74925920e-04,\n",
       "       2.65173067e-04, 2.55766192e-04, 2.46693021e-04, 2.37941715e-04,\n",
       "       2.29500858e-04, 2.21359436e-04, 2.13506826e-04, 2.05932784e-04,\n",
       "       1.98627426e-04, 1.91581223e-04, 1.84784980e-04, 1.78229830e-04,\n",
       "       1.71907220e-04, 1.65808902e-04, 1.59926918e-04, 1.54253595e-04,\n",
       "       1.48781530e-04, 1.43503583e-04, 1.38412869e-04, 1.33502745e-04,\n",
       "       1.28766805e-04, 1.24198871e-04, 1.19792981e-04, 1.15543388e-04,\n",
       "       1.11444547e-04, 1.07491110e-04, 1.03677920e-04, 1.00000000e-04])"
      ]
     },
     "execution_count": 89,
     "metadata": {},
     "output_type": "execute_result"
    }
   ],
   "source": [
    "angle_rates"
   ]
  },
  {
   "cell_type": "code",
   "execution_count": 77,
   "metadata": {},
   "outputs": [
    {
     "data": {
      "text/plain": [
       "array([ True,  True,  True,  True,  True,  True,  True,  True,  True,\n",
       "        True,  True,  True,  True,  True,  True,  True,  True,  True,\n",
       "        True,  True,  True,  True,  True,  True,  True,  True,  True,\n",
       "        True,  True,  True,  True,  True,  True,  True,  True,  True,\n",
       "        True,  True,  True,  True,  True,  True,  True,  True,  True,\n",
       "        True,  True,  True,  True,  True,  True,  True,  True,  True,\n",
       "        True,  True,  True,  True,  True,  True,  True,  True,  True,\n",
       "        True,  True,  True,  True,  True,  True,  True,  True,  True,\n",
       "        True,  True,  True,  True,  True,  True,  True,  True,  True,\n",
       "        True,  True,  True,  True,  True,  True,  True,  True,  True,\n",
       "        True,  True,  True,  True,  True,  True,  True,  True,  True,\n",
       "        True,  True,  True,  True,  True,  True,  True,  True,  True,\n",
       "        True,  True,  True,  True,  True,  True,  True,  True,  True,\n",
       "        True,  True,  True,  True,  True,  True,  True,  True,  True,\n",
       "        True,  True,  True,  True,  True,  True,  True,  True,  True,\n",
       "        True,  True,  True,  True,  True,  True,  True,  True,  True,\n",
       "        True,  True,  True,  True,  True,  True,  True,  True,  True,\n",
       "        True,  True,  True,  True,  True,  True,  True,  True,  True,\n",
       "        True,  True,  True,  True,  True,  True,  True,  True,  True,\n",
       "        True,  True,  True,  True,  True,  True,  True,  True,  True,\n",
       "        True,  True,  True,  True,  True,  True,  True,  True,  True,\n",
       "        True,  True,  True,  True,  True,  True,  True,  True,  True,\n",
       "        True,  True,  True,  True,  True,  True,  True,  True,  True,\n",
       "        True,  True,  True,  True,  True,  True,  True,  True,  True,\n",
       "        True,  True,  True,  True,  True,  True,  True,  True,  True,\n",
       "        True,  True,  True,  True,  True,  True,  True,  True,  True,\n",
       "        True,  True,  True,  True,  True,  True,  True,  True,  True,\n",
       "        True,  True,  True,  True,  True,  True,  True,  True,  True,\n",
       "        True,  True,  True,  True])"
      ]
     },
     "execution_count": 77,
     "metadata": {},
     "output_type": "execute_result"
    }
   ],
   "source": [
    "angle_rates == angle_rads[1]"
   ]
  },
  {
   "cell_type": "code",
   "execution_count": 78,
   "metadata": {},
   "outputs": [
    {
     "data": {
      "image/png": "[encoded data removed]",
      "text/plain": [
       "<Figure size 1008x576 with 2 Axes>"
      ]
     },
     "metadata": {
      "needs_background": "light"
     },
     "output_type": "display_data"
    }
   ],
   "source": [
    "plt.figure(figsize = (14,8))\n",
    "plt.pcolormesh(\n",
    "    # Convert to degrees, and wrap around at 360\n",
    "    angle_rads*180/(2*np.pi) % 360,\n",
    "    # Use a cyclical colormap so that color(0) == color(360)\n",
    "    cmap='hsv', vmin=0, vmax=360)\n",
    "\n",
    "plt.xlim([0,len(angle_rates)])\n",
    "plt.ylabel('Position')\n",
    "plt.xlabel('Depth')\n",
    "bar = plt.colorbar(label='Angle [deg]')\n",
    "bar.set_ticks(np.linspace(0,360,6+1))"
   ]
  },
  {
   "cell_type": "code",
   "execution_count": 79,
   "metadata": {},
   "outputs": [],
   "source": [
    "sines = np.sin(angle_rads)\n",
    "cosines = np.cos(angle_rads)\n",
    "pos_encoding = np.concatenate([sines, cosines], axis=-1)"
   ]
  },
  {
   "cell_type": "code",
   "execution_count": 80,
   "metadata": {},
   "outputs": [
    {
     "data": {
      "text/plain": [
       "<matplotlib.colorbar.Colorbar at 0x14b85fcf8>"
      ]
     },
     "execution_count": 80,
     "metadata": {},
     "output_type": "execute_result"
    },
    {
     "data": {
      "image/png": "[encoded data removed]",
      "text/plain": [
       "<Figure size 1008x576 with 2 Axes>"
      ]
     },
     "metadata": {
      "needs_background": "light"
     },
     "output_type": "display_data"
    }
   ],
   "source": []
  },
  {
   "cell_type": "code",
   "execution_count": 81,
   "metadata": {},
   "outputs": [],
   "source": [
    "pos_encoding_at_20 = pos_encoding[20]\n",
    "\n",
    "dots = np.dot(pos_encoding,pos_encoding_at_20)\n",
    "SSE = np.sum((pos_encoding - pos_encoding_at_20)**2, axis=1)"
   ]
  },
  {
   "cell_type": "code",
   "execution_count": 82,
   "metadata": {},
   "outputs": [
    {
     "data": {
      "text/plain": [
       "Text(0.5, 0, 'Position')"
      ]
     },
     "execution_count": 82,
     "metadata": {},
     "output_type": "execute_result"
    },
    {
     "data": {
      "image/png": "[encoded data removed]",
      "text/plain": [
       "<Figure size 720x576 with 2 Axes>"
      ]
     },
     "metadata": {
      "needs_background": "light"
     },
     "output_type": "display_data"
    }
   ],
   "source": [
    "plt.figure(figsize=(10,8))\n",
    "plt.subplot(2,1,1)\n",
    "plt.plot(dots)\n",
    "plt.ylabel('Dot product')\n",
    "plt.subplot(2,1,2)\n",
    "plt.plot(SSE)\n",
    "plt.ylabel('SSE')\n",
    "plt.xlabel('Position')"
   ]
  },
  {
   "cell_type": "code",
   "execution_count": 84,
   "metadata": {},
   "outputs": [],
   "source": [
    "def transition_matrix(position_delta, angle_rates = angle_rates):\n",
    "    # Implement as a matrix multiply:\n",
    "    #    sin(a+b) = sin(a)*cos(b)+cos(a)*sin(b)\n",
    "    #    cos(a+b) = cos(a)*cos(b)-sin(a)*sin(b)\n",
    "\n",
    "    # b\n",
    "    angle_delta = position_delta*angle_rates\n",
    "\n",
    "    # sin(b), cos(b)\n",
    "    sin_delta = np.sin(angle_delta)\n",
    "    cos_delta = np.cos(angle_delta)\n",
    "\n",
    "    I = np.eye(len(angle_rates))\n",
    "\n",
    "    # sin(a+b) = sin(a)*cos(b)+cos(a)*sin(b)\n",
    "    update_sin = np.concatenate([I*cos_delta, I*sin_delta], axis=0)\n",
    "\n",
    "    # cos(a+b) = cos(a)*cos(b)-sin(a)*sin(b)\n",
    "    update_cos = np.concatenate([-I*sin_delta, I*cos_delta], axis=0)\n",
    "\n",
    "    return np.concatenate([update_sin, update_cos], axis=-1)"
   ]
  },
  {
   "cell_type": "code",
   "execution_count": 85,
   "metadata": {},
   "outputs": [],
   "source": [
    "position_delta = -10\n",
    "update = transition_matrix(position_delta)"
   ]
  },
  {
   "cell_type": "code",
   "execution_count": 86,
   "metadata": {},
   "outputs": [
    {
     "data": {
      "text/plain": [
       "Text(0.5, 0, 'Depth')"
      ]
     },
     "execution_count": 86,
     "metadata": {},
     "output_type": "execute_result"
    },
    {
     "data": {
      "image/png": "[encoded data removed]",
      "text/plain": [
       "<Figure size 1008x576 with 1 Axes>"
      ]
     },
     "metadata": {
      "needs_background": "light"
     },
     "output_type": "display_data"
    }
   ],
   "source": [
    "plt.figure(figsize=(14,8))\n",
    "plt.pcolormesh(np.dot(pos_encoding,update), cmap='RdBu', vmin=-1, vmax=1)\n",
    "plt.xlim([0,depth])\n",
    "plt.ylabel('Position')\n",
    "plt.xlabel('Depth')"
   ]
  },
  {
   "cell_type": "code",
   "execution_count": 87,
   "metadata": {},
   "outputs": [
    {
     "data": {
      "text/plain": [
       "5.4262150328554526e-15"
      ]
     },
     "execution_count": 87,
     "metadata": {},
     "output_type": "execute_result"
    }
   ],
   "source": [
    "errors = np.dot(pos_encoding,update)[10:] - pos_encoding[:-10]\n",
    "abs(errors).max()"
   ]
  },
  {
   "cell_type": "code",
   "execution_count": null,
   "metadata": {},
   "outputs": [],
   "source": []
  }
 ],
 "metadata": {
  "kernelspec": {
   "display_name": "Python 3",
   "language": "python",
   "name": "python3"
  },
  "language_info": {
   "codemirror_mode": {
    "name": "ipython",
    "version": 3
   },
   "file_extension": ".py",
   "mimetype": "text/x-python",
   "name": "python",
   "nbconvert_exporter": "python",
   "pygments_lexer": "ipython3",
   "version": "3.7.3"
  }
 },
 "nbformat": 4,
 "nbformat_minor": 4
}
